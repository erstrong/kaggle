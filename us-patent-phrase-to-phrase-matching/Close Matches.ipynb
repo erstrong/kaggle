{
 "cells": [
  {
   "cell_type": "code",
   "execution_count": 1,
   "metadata": {},
   "outputs": [],
   "source": [
    "import pandas as pd\n",
    "import numpy as np"
   ]
  },
  {
   "cell_type": "code",
   "execution_count": 2,
   "metadata": {},
   "outputs": [],
   "source": [
    "train_df = pd.read_csv('data/train.csv')"
   ]
  },
  {
   "cell_type": "code",
   "execution_count": 3,
   "metadata": {},
   "outputs": [
    {
     "data": {
      "text/html": [
       "<div>\n",
       "<style scoped>\n",
       "    .dataframe tbody tr th:only-of-type {\n",
       "        vertical-align: middle;\n",
       "    }\n",
       "\n",
       "    .dataframe tbody tr th {\n",
       "        vertical-align: top;\n",
       "    }\n",
       "\n",
       "    .dataframe thead th {\n",
       "        text-align: right;\n",
       "    }\n",
       "</style>\n",
       "<table border=\"1\" class=\"dataframe\">\n",
       "  <thead>\n",
       "    <tr style=\"text-align: right;\">\n",
       "      <th></th>\n",
       "      <th>id</th>\n",
       "      <th>anchor</th>\n",
       "      <th>target</th>\n",
       "      <th>context</th>\n",
       "      <th>score</th>\n",
       "    </tr>\n",
       "  </thead>\n",
       "  <tbody>\n",
       "    <tr>\n",
       "      <th>0</th>\n",
       "      <td>37d61fd2272659b1</td>\n",
       "      <td>abatement</td>\n",
       "      <td>abatement of pollution</td>\n",
       "      <td>A47</td>\n",
       "      <td>0.50</td>\n",
       "    </tr>\n",
       "    <tr>\n",
       "      <th>1</th>\n",
       "      <td>7b9652b17b68b7a4</td>\n",
       "      <td>abatement</td>\n",
       "      <td>act of abating</td>\n",
       "      <td>A47</td>\n",
       "      <td>0.75</td>\n",
       "    </tr>\n",
       "    <tr>\n",
       "      <th>2</th>\n",
       "      <td>36d72442aefd8232</td>\n",
       "      <td>abatement</td>\n",
       "      <td>active catalyst</td>\n",
       "      <td>A47</td>\n",
       "      <td>0.25</td>\n",
       "    </tr>\n",
       "    <tr>\n",
       "      <th>3</th>\n",
       "      <td>5296b0c19e1ce60e</td>\n",
       "      <td>abatement</td>\n",
       "      <td>eliminating process</td>\n",
       "      <td>A47</td>\n",
       "      <td>0.50</td>\n",
       "    </tr>\n",
       "    <tr>\n",
       "      <th>4</th>\n",
       "      <td>54c1e3b9184cb5b6</td>\n",
       "      <td>abatement</td>\n",
       "      <td>forest region</td>\n",
       "      <td>A47</td>\n",
       "      <td>0.00</td>\n",
       "    </tr>\n",
       "  </tbody>\n",
       "</table>\n",
       "</div>"
      ],
      "text/plain": [
       "                 id     anchor                  target context  score\n",
       "0  37d61fd2272659b1  abatement  abatement of pollution     A47   0.50\n",
       "1  7b9652b17b68b7a4  abatement          act of abating     A47   0.75\n",
       "2  36d72442aefd8232  abatement         active catalyst     A47   0.25\n",
       "3  5296b0c19e1ce60e  abatement     eliminating process     A47   0.50\n",
       "4  54c1e3b9184cb5b6  abatement           forest region     A47   0.00"
      ]
     },
     "execution_count": 3,
     "metadata": {},
     "output_type": "execute_result"
    }
   ],
   "source": [
    "train_df.head()"
   ]
  },
  {
   "cell_type": "code",
   "execution_count": 6,
   "metadata": {},
   "outputs": [
    {
     "name": "stderr",
     "output_type": "stream",
     "text": [
      "[nltk_data] Downloading package wordnet to /Users/emily/nltk_data...\n",
      "[nltk_data]   Unzipping corpora/wordnet.zip.\n"
     ]
    },
    {
     "data": {
      "text/plain": [
       "True"
      ]
     },
     "execution_count": 6,
     "metadata": {},
     "output_type": "execute_result"
    }
   ],
   "source": [
    "import nltk\n",
    "nltk.download('wordnet')"
   ]
  },
  {
   "cell_type": "code",
   "execution_count": 7,
   "metadata": {},
   "outputs": [],
   "source": [
    "from nltk.stem import WordNetLemmatizer\n",
    "\n",
    "lemmatizer = WordNetLemmatizer()"
   ]
  },
  {
   "cell_type": "code",
   "execution_count": 8,
   "metadata": {},
   "outputs": [
    {
     "name": "stdout",
     "output_type": "stream",
     "text": [
      "abatement : abatement\n"
     ]
    }
   ],
   "source": [
    "print('abatement :', lemmatizer.lemmatize('abatement'))"
   ]
  },
  {
   "cell_type": "code",
   "execution_count": 9,
   "metadata": {},
   "outputs": [
    {
     "name": "stdout",
     "output_type": "stream",
     "text": [
      "abating : abating\n"
     ]
    }
   ],
   "source": [
    "print('abating :', lemmatizer.lemmatize('abating'))"
   ]
  },
  {
   "cell_type": "code",
   "execution_count": 11,
   "metadata": {},
   "outputs": [
    {
     "name": "stderr",
     "output_type": "stream",
     "text": [
      "[nltk_data] Downloading package averaged_perceptron_tagger to\n",
      "[nltk_data]     /Users/emily/nltk_data...\n",
      "[nltk_data]   Unzipping taggers/averaged_perceptron_tagger.zip.\n"
     ]
    },
    {
     "data": {
      "text/plain": [
       "True"
      ]
     },
     "execution_count": 11,
     "metadata": {},
     "output_type": "execute_result"
    }
   ],
   "source": [
    "nltk.download('averaged_perceptron_tagger')"
   ]
  },
  {
   "cell_type": "code",
   "execution_count": 18,
   "metadata": {},
   "outputs": [
    {
     "name": "stdout",
     "output_type": "stream",
     "text": [
      "[('abating', 'VBG')]\n"
     ]
    }
   ],
   "source": [
    "print(nltk.pos_tag(['abating']))"
   ]
  },
  {
   "cell_type": "code",
   "execution_count": 20,
   "metadata": {},
   "outputs": [
    {
     "name": "stdout",
     "output_type": "stream",
     "text": [
      "[('abatement', 'NN')]\n"
     ]
    }
   ],
   "source": [
    "print(nltk.pos_tag(['abatement']))"
   ]
  },
  {
   "cell_type": "code",
   "execution_count": 22,
   "metadata": {},
   "outputs": [],
   "source": [
    "wordnet_pos = {'NN': 'n','JJ': 'a', 'RB': 'r', 'VB': 'v'}"
   ]
  },
  {
   "cell_type": "code",
   "execution_count": 25,
   "metadata": {},
   "outputs": [
    {
     "data": {
      "text/plain": [
       "'v'"
      ]
     },
     "execution_count": 25,
     "metadata": {},
     "output_type": "execute_result"
    }
   ],
   "source": [
    "wordnet_pos[nltk.pos_tag(['abating'])[0][1][:2]]"
   ]
  },
  {
   "cell_type": "code",
   "execution_count": 26,
   "metadata": {},
   "outputs": [
    {
     "name": "stdout",
     "output_type": "stream",
     "text": [
      "abating : abate\n"
     ]
    }
   ],
   "source": [
    "print('abating :', lemmatizer.lemmatize('abating', wordnet_pos[nltk.pos_tag(['abating'])[0][1][:2]]))"
   ]
  },
  {
   "cell_type": "code",
   "execution_count": 27,
   "metadata": {},
   "outputs": [
    {
     "name": "stdout",
     "output_type": "stream",
     "text": [
      "abatement : abatement\n"
     ]
    }
   ],
   "source": [
    "print('abatement :', lemmatizer.lemmatize('abatement', wordnet_pos[nltk.pos_tag(['abatement'])[0][1][:2]]))"
   ]
  },
  {
   "cell_type": "code",
   "execution_count": 30,
   "metadata": {},
   "outputs": [],
   "source": [
    "def get_lemmas(word):\n",
    "    wordnet_pos = {'NN': 'n','JJ': 'a', 'RB': 'r', 'VB': 'v'}\n",
    "    return lemmatizer.lemmatize(word, wordnet_pos[nltk.pos_tag([word])[0][1][:2]])\n",
    "\n",
    "def compare_lemmas(word1, word2):\n",
    "    if word1 == word2:\n",
    "        return 1.0\n",
    "    return 0.0"
   ]
  },
  {
   "cell_type": "code",
   "execution_count": 31,
   "metadata": {},
   "outputs": [
    {
     "data": {
      "text/plain": [
       "1.0"
      ]
     },
     "execution_count": 31,
     "metadata": {},
     "output_type": "execute_result"
    }
   ],
   "source": [
    "compare_lemmas(get_lemmas('abating'), get_lemmas('abate'))"
   ]
  },
  {
   "cell_type": "code",
   "execution_count": 33,
   "metadata": {},
   "outputs": [
    {
     "data": {
      "text/html": [
       "<div>\n",
       "<style scoped>\n",
       "    .dataframe tbody tr th:only-of-type {\n",
       "        vertical-align: middle;\n",
       "    }\n",
       "\n",
       "    .dataframe tbody tr th {\n",
       "        vertical-align: top;\n",
       "    }\n",
       "\n",
       "    .dataframe thead th {\n",
       "        text-align: right;\n",
       "    }\n",
       "</style>\n",
       "<table border=\"1\" class=\"dataframe\">\n",
       "  <thead>\n",
       "    <tr style=\"text-align: right;\">\n",
       "      <th></th>\n",
       "      <th>id</th>\n",
       "      <th>anchor</th>\n",
       "      <th>target</th>\n",
       "      <th>context</th>\n",
       "      <th>score</th>\n",
       "    </tr>\n",
       "  </thead>\n",
       "  <tbody>\n",
       "    <tr>\n",
       "      <th>28</th>\n",
       "      <td>473137168ebf7484</td>\n",
       "      <td>abatement</td>\n",
       "      <td>abating</td>\n",
       "      <td>F24</td>\n",
       "      <td>1.0</td>\n",
       "    </tr>\n",
       "    <tr>\n",
       "      <th>158</th>\n",
       "      <td>621b048d70aa8867</td>\n",
       "      <td>absorbent properties</td>\n",
       "      <td>absorbent characteristics</td>\n",
       "      <td>D01</td>\n",
       "      <td>1.0</td>\n",
       "    </tr>\n",
       "    <tr>\n",
       "      <th>161</th>\n",
       "      <td>bc20a1c961cb073a</td>\n",
       "      <td>absorbent properties</td>\n",
       "      <td>absorption properties</td>\n",
       "      <td>D01</td>\n",
       "      <td>1.0</td>\n",
       "    </tr>\n",
       "    <tr>\n",
       "      <th>311</th>\n",
       "      <td>e955700dffd68624</td>\n",
       "      <td>acid absorption</td>\n",
       "      <td>absorption of acid</td>\n",
       "      <td>B08</td>\n",
       "      <td>1.0</td>\n",
       "    </tr>\n",
       "    <tr>\n",
       "      <th>315</th>\n",
       "      <td>3a09aba546aac675</td>\n",
       "      <td>acid absorption</td>\n",
       "      <td>acid absorption</td>\n",
       "      <td>B08</td>\n",
       "      <td>1.0</td>\n",
       "    </tr>\n",
       "  </tbody>\n",
       "</table>\n",
       "</div>"
      ],
      "text/plain": [
       "                   id                anchor                     target  \\\n",
       "28   473137168ebf7484             abatement                    abating   \n",
       "158  621b048d70aa8867  absorbent properties  absorbent characteristics   \n",
       "161  bc20a1c961cb073a  absorbent properties      absorption properties   \n",
       "311  e955700dffd68624       acid absorption         absorption of acid   \n",
       "315  3a09aba546aac675       acid absorption            acid absorption   \n",
       "\n",
       "    context  score  \n",
       "28      F24    1.0  \n",
       "158     D01    1.0  \n",
       "161     D01    1.0  \n",
       "311     B08    1.0  \n",
       "315     B08    1.0  "
      ]
     },
     "execution_count": 33,
     "metadata": {},
     "output_type": "execute_result"
    }
   ],
   "source": [
    "train_df[train_df['score']==1.0].head()"
   ]
  },
  {
   "cell_type": "code",
   "execution_count": 34,
   "metadata": {},
   "outputs": [
    {
     "data": {
      "text/plain": [
       "0.0"
      ]
     },
     "execution_count": 34,
     "metadata": {},
     "output_type": "execute_result"
    }
   ],
   "source": [
    "compare_lemmas(get_lemmas('abating'), get_lemmas('abatement'))"
   ]
  },
  {
   "cell_type": "code",
   "execution_count": 35,
   "metadata": {},
   "outputs": [
    {
     "data": {
      "text/plain": [
       "0.0"
      ]
     },
     "execution_count": 35,
     "metadata": {},
     "output_type": "execute_result"
    }
   ],
   "source": [
    "compare_lemmas(get_lemmas('absorption'), get_lemmas('absorbent'))"
   ]
  },
  {
   "cell_type": "code",
   "execution_count": 40,
   "metadata": {},
   "outputs": [],
   "source": [
    "def get_lemmas(phrase):\n",
    "    words = phrase.split(' ')\n",
    "    wordnet_pos = {'NN': 'n','JJ': 'a', 'RB': 'r', 'VB': 'v'}\n",
    "    lemmas = []\n",
    "    for word in words:\n",
    "        pos = nltk.pos_tag([word])[0][1][:2]\n",
    "        if pos in wordnet_pos:\n",
    "            lemmas.append(lemmatizer.lemmatize(word, wordnet_pos[pos]))\n",
    "    return lemmas\n",
    "\n",
    "def compare_lemmas(phrase1, phrase2):\n",
    "    lemmas1 = get_lemmas(phrase1)\n",
    "    lemmas2 = get_lemmas(phrase2)\n",
    "    if set(lemmas1) == set(lemmas2):\n",
    "        return 1.0\n",
    "    return 0.0"
   ]
  },
  {
   "cell_type": "code",
   "execution_count": 41,
   "metadata": {},
   "outputs": [
    {
     "data": {
      "text/plain": [
       "1.0"
      ]
     },
     "execution_count": 41,
     "metadata": {},
     "output_type": "execute_result"
    }
   ],
   "source": [
    "compare_lemmas('acid absorption', 'acid absorption')"
   ]
  },
  {
   "cell_type": "code",
   "execution_count": 42,
   "metadata": {},
   "outputs": [
    {
     "data": {
      "text/plain": [
       "1.0"
      ]
     },
     "execution_count": 42,
     "metadata": {},
     "output_type": "execute_result"
    }
   ],
   "source": [
    "compare_lemmas('acid absorption', 'absorption of acid')"
   ]
  },
  {
   "cell_type": "code",
   "execution_count": 43,
   "metadata": {},
   "outputs": [],
   "source": [
    "train_df['lemma_score'] = train_df.apply(lambda x: compare_lemmas(x['anchor'], x['target']), axis=1)"
   ]
  },
  {
   "cell_type": "code",
   "execution_count": 44,
   "metadata": {},
   "outputs": [
    {
     "data": {
      "text/plain": [
       "1080.0"
      ]
     },
     "execution_count": 44,
     "metadata": {},
     "output_type": "execute_result"
    }
   ],
   "source": [
    "train_df['lemma_score'].sum()"
   ]
  },
  {
   "cell_type": "code",
   "execution_count": 45,
   "metadata": {},
   "outputs": [
    {
     "data": {
      "text/plain": [
       "(799, 6)"
      ]
     },
     "execution_count": 45,
     "metadata": {},
     "output_type": "execute_result"
    }
   ],
   "source": [
    "train_df[(train_df['lemma_score']==1.0) & (train_df['score']==1.0)].shape"
   ]
  },
  {
   "cell_type": "code",
   "execution_count": 46,
   "metadata": {},
   "outputs": [
    {
     "data": {
      "text/plain": [
       "(281, 6)"
      ]
     },
     "execution_count": 46,
     "metadata": {},
     "output_type": "execute_result"
    }
   ],
   "source": [
    "train_df[(train_df['lemma_score']==1.0) & (train_df['score']!=1.0)].shape"
   ]
  },
  {
   "cell_type": "code",
   "execution_count": 47,
   "metadata": {},
   "outputs": [
    {
     "data": {
      "text/html": [
       "<div>\n",
       "<style scoped>\n",
       "    .dataframe tbody tr th:only-of-type {\n",
       "        vertical-align: middle;\n",
       "    }\n",
       "\n",
       "    .dataframe tbody tr th {\n",
       "        vertical-align: top;\n",
       "    }\n",
       "\n",
       "    .dataframe thead th {\n",
       "        text-align: right;\n",
       "    }\n",
       "</style>\n",
       "<table border=\"1\" class=\"dataframe\">\n",
       "  <thead>\n",
       "    <tr style=\"text-align: right;\">\n",
       "      <th></th>\n",
       "      <th>id</th>\n",
       "      <th>anchor</th>\n",
       "      <th>target</th>\n",
       "      <th>context</th>\n",
       "      <th>score</th>\n",
       "      <th>lemma_score</th>\n",
       "    </tr>\n",
       "  </thead>\n",
       "  <tbody>\n",
       "    <tr>\n",
       "      <th>214</th>\n",
       "      <td>1b9e8b4b43d11ca6</td>\n",
       "      <td>accept information</td>\n",
       "      <td>accept this information</td>\n",
       "      <td>A45</td>\n",
       "      <td>0.75</td>\n",
       "      <td>1.0</td>\n",
       "    </tr>\n",
       "    <tr>\n",
       "      <th>216</th>\n",
       "      <td>c94e7b08d9402064</td>\n",
       "      <td>accept information</td>\n",
       "      <td>accepting information from</td>\n",
       "      <td>A45</td>\n",
       "      <td>0.75</td>\n",
       "      <td>1.0</td>\n",
       "    </tr>\n",
       "    <tr>\n",
       "      <th>625</th>\n",
       "      <td>401fdb79d3fbcea9</td>\n",
       "      <td>adaptive linear</td>\n",
       "      <td>linear adaptive</td>\n",
       "      <td>G01</td>\n",
       "      <td>0.75</td>\n",
       "      <td>1.0</td>\n",
       "    </tr>\n",
       "    <tr>\n",
       "      <th>648</th>\n",
       "      <td>bb4fe1d01682b78b</td>\n",
       "      <td>adaptive linear</td>\n",
       "      <td>linear adaptive</td>\n",
       "      <td>H04</td>\n",
       "      <td>0.75</td>\n",
       "      <td>1.0</td>\n",
       "    </tr>\n",
       "    <tr>\n",
       "      <th>1799</th>\n",
       "      <td>76d4070823a41a20</td>\n",
       "      <td>application messaging</td>\n",
       "      <td>messaging application</td>\n",
       "      <td>G06</td>\n",
       "      <td>0.50</td>\n",
       "      <td>1.0</td>\n",
       "    </tr>\n",
       "    <tr>\n",
       "      <th>1828</th>\n",
       "      <td>141a9c7a7bb0d6b3</td>\n",
       "      <td>apply on tube</td>\n",
       "      <td>apply to tube</td>\n",
       "      <td>F16</td>\n",
       "      <td>0.75</td>\n",
       "      <td>1.0</td>\n",
       "    </tr>\n",
       "    <tr>\n",
       "      <th>1850</th>\n",
       "      <td>bc9d8f58f814e0cb</td>\n",
       "      <td>apply to anode electrode</td>\n",
       "      <td>apply between anode electrode</td>\n",
       "      <td>H01</td>\n",
       "      <td>0.75</td>\n",
       "      <td>1.0</td>\n",
       "    </tr>\n",
       "    <tr>\n",
       "      <th>1899</th>\n",
       "      <td>99d105ef372366ae</td>\n",
       "      <td>apply to requests</td>\n",
       "      <td>apply to both requests</td>\n",
       "      <td>H04</td>\n",
       "      <td>0.75</td>\n",
       "      <td>1.0</td>\n",
       "    </tr>\n",
       "    <tr>\n",
       "      <th>2209</th>\n",
       "      <td>12b3c70c1c49d97c</td>\n",
       "      <td>arm roller</td>\n",
       "      <td>roller arm</td>\n",
       "      <td>B27</td>\n",
       "      <td>0.75</td>\n",
       "      <td>1.0</td>\n",
       "    </tr>\n",
       "    <tr>\n",
       "      <th>2247</th>\n",
       "      <td>1bb5286edaca253a</td>\n",
       "      <td>arm roller</td>\n",
       "      <td>roller arm</td>\n",
       "      <td>E04</td>\n",
       "      <td>0.50</td>\n",
       "      <td>1.0</td>\n",
       "    </tr>\n",
       "    <tr>\n",
       "      <th>2797</th>\n",
       "      <td>de263d3633fb36e9</td>\n",
       "      <td>azabicyclo</td>\n",
       "      <td>1 azabicyclo</td>\n",
       "      <td>G01</td>\n",
       "      <td>0.50</td>\n",
       "      <td>1.0</td>\n",
       "    </tr>\n",
       "    <tr>\n",
       "      <th>2870</th>\n",
       "      <td>7d7ce6f2840f62df</td>\n",
       "      <td>base fuels</td>\n",
       "      <td>based fuels</td>\n",
       "      <td>C10</td>\n",
       "      <td>0.50</td>\n",
       "      <td>1.0</td>\n",
       "    </tr>\n",
       "    <tr>\n",
       "      <th>2933</th>\n",
       "      <td>684920171ee15923</td>\n",
       "      <td>based method</td>\n",
       "      <td>method based</td>\n",
       "      <td>C01</td>\n",
       "      <td>0.75</td>\n",
       "      <td>1.0</td>\n",
       "    </tr>\n",
       "    <tr>\n",
       "      <th>2955</th>\n",
       "      <td>9d653223c65f2c47</td>\n",
       "      <td>based method</td>\n",
       "      <td>method base</td>\n",
       "      <td>G01</td>\n",
       "      <td>0.50</td>\n",
       "      <td>1.0</td>\n",
       "    </tr>\n",
       "    <tr>\n",
       "      <th>3223</th>\n",
       "      <td>543af776de017597</td>\n",
       "      <td>battery monitoring circuit</td>\n",
       "      <td>circuit for monitoring a battery</td>\n",
       "      <td>G01</td>\n",
       "      <td>0.75</td>\n",
       "      <td>1.0</td>\n",
       "    </tr>\n",
       "    <tr>\n",
       "      <th>3568</th>\n",
       "      <td>d257bb1ce5b8dc38</td>\n",
       "      <td>board id</td>\n",
       "      <td>board id of the board</td>\n",
       "      <td>G01</td>\n",
       "      <td>0.75</td>\n",
       "      <td>1.0</td>\n",
       "    </tr>\n",
       "    <tr>\n",
       "      <th>3646</th>\n",
       "      <td>ead0561cc8576975</td>\n",
       "      <td>board manufacture</td>\n",
       "      <td>manufacture board</td>\n",
       "      <td>C04</td>\n",
       "      <td>0.75</td>\n",
       "      <td>1.0</td>\n",
       "    </tr>\n",
       "    <tr>\n",
       "      <th>3666</th>\n",
       "      <td>f297ea79eab86071</td>\n",
       "      <td>boom hydraulic cylinder</td>\n",
       "      <td>boom a hydraulic cylinder</td>\n",
       "      <td>E02</td>\n",
       "      <td>0.00</td>\n",
       "      <td>1.0</td>\n",
       "    </tr>\n",
       "    <tr>\n",
       "      <th>3702</th>\n",
       "      <td>0a452e14f3202d32</td>\n",
       "      <td>boom hydraulic cylinder</td>\n",
       "      <td>hydraulic boom cylinder</td>\n",
       "      <td>E02</td>\n",
       "      <td>0.75</td>\n",
       "      <td>1.0</td>\n",
       "    </tr>\n",
       "    <tr>\n",
       "      <th>4099</th>\n",
       "      <td>fea2e05149dba5e6</td>\n",
       "      <td>cable securing</td>\n",
       "      <td>securing of cable</td>\n",
       "      <td>H01</td>\n",
       "      <td>0.75</td>\n",
       "      <td>1.0</td>\n",
       "    </tr>\n",
       "    <tr>\n",
       "      <th>4369</th>\n",
       "      <td>9bae93608b5c4e52</td>\n",
       "      <td>carpet tiles</td>\n",
       "      <td>carpet in tile</td>\n",
       "      <td>B41</td>\n",
       "      <td>0.75</td>\n",
       "      <td>1.0</td>\n",
       "    </tr>\n",
       "    <tr>\n",
       "      <th>4401</th>\n",
       "      <td>47426c640707f475</td>\n",
       "      <td>carpet tiles</td>\n",
       "      <td>carpet in tile</td>\n",
       "      <td>B44</td>\n",
       "      <td>0.75</td>\n",
       "      <td>1.0</td>\n",
       "    </tr>\n",
       "    <tr>\n",
       "      <th>4504</th>\n",
       "      <td>b892011ab2e2cabc</td>\n",
       "      <td>carry by platform</td>\n",
       "      <td>carry on platform</td>\n",
       "      <td>B60</td>\n",
       "      <td>0.50</td>\n",
       "      <td>1.0</td>\n",
       "    </tr>\n",
       "    <tr>\n",
       "      <th>4506</th>\n",
       "      <td>658f8bc92aba3228</td>\n",
       "      <td>carry by platform</td>\n",
       "      <td>carry on platform</td>\n",
       "      <td>B61</td>\n",
       "      <td>0.75</td>\n",
       "      <td>1.0</td>\n",
       "    </tr>\n",
       "    <tr>\n",
       "      <th>4550</th>\n",
       "      <td>a6b717b457051117</td>\n",
       "      <td>carry by platform</td>\n",
       "      <td>carry platform</td>\n",
       "      <td>F16</td>\n",
       "      <td>0.50</td>\n",
       "      <td>1.0</td>\n",
       "    </tr>\n",
       "  </tbody>\n",
       "</table>\n",
       "</div>"
      ],
      "text/plain": [
       "                    id                      anchor  \\\n",
       "214   1b9e8b4b43d11ca6          accept information   \n",
       "216   c94e7b08d9402064          accept information   \n",
       "625   401fdb79d3fbcea9             adaptive linear   \n",
       "648   bb4fe1d01682b78b             adaptive linear   \n",
       "1799  76d4070823a41a20       application messaging   \n",
       "1828  141a9c7a7bb0d6b3               apply on tube   \n",
       "1850  bc9d8f58f814e0cb    apply to anode electrode   \n",
       "1899  99d105ef372366ae           apply to requests   \n",
       "2209  12b3c70c1c49d97c                  arm roller   \n",
       "2247  1bb5286edaca253a                  arm roller   \n",
       "2797  de263d3633fb36e9                  azabicyclo   \n",
       "2870  7d7ce6f2840f62df                  base fuels   \n",
       "2933  684920171ee15923                based method   \n",
       "2955  9d653223c65f2c47                based method   \n",
       "3223  543af776de017597  battery monitoring circuit   \n",
       "3568  d257bb1ce5b8dc38                    board id   \n",
       "3646  ead0561cc8576975           board manufacture   \n",
       "3666  f297ea79eab86071     boom hydraulic cylinder   \n",
       "3702  0a452e14f3202d32     boom hydraulic cylinder   \n",
       "4099  fea2e05149dba5e6              cable securing   \n",
       "4369  9bae93608b5c4e52                carpet tiles   \n",
       "4401  47426c640707f475                carpet tiles   \n",
       "4504  b892011ab2e2cabc           carry by platform   \n",
       "4506  658f8bc92aba3228           carry by platform   \n",
       "4550  a6b717b457051117           carry by platform   \n",
       "\n",
       "                                target context  score  lemma_score  \n",
       "214            accept this information     A45   0.75          1.0  \n",
       "216         accepting information from     A45   0.75          1.0  \n",
       "625                    linear adaptive     G01   0.75          1.0  \n",
       "648                    linear adaptive     H04   0.75          1.0  \n",
       "1799             messaging application     G06   0.50          1.0  \n",
       "1828                     apply to tube     F16   0.75          1.0  \n",
       "1850     apply between anode electrode     H01   0.75          1.0  \n",
       "1899            apply to both requests     H04   0.75          1.0  \n",
       "2209                        roller arm     B27   0.75          1.0  \n",
       "2247                        roller arm     E04   0.50          1.0  \n",
       "2797                      1 azabicyclo     G01   0.50          1.0  \n",
       "2870                       based fuels     C10   0.50          1.0  \n",
       "2933                      method based     C01   0.75          1.0  \n",
       "2955                       method base     G01   0.50          1.0  \n",
       "3223  circuit for monitoring a battery     G01   0.75          1.0  \n",
       "3568             board id of the board     G01   0.75          1.0  \n",
       "3646                 manufacture board     C04   0.75          1.0  \n",
       "3666         boom a hydraulic cylinder     E02   0.00          1.0  \n",
       "3702           hydraulic boom cylinder     E02   0.75          1.0  \n",
       "4099                 securing of cable     H01   0.75          1.0  \n",
       "4369                    carpet in tile     B41   0.75          1.0  \n",
       "4401                    carpet in tile     B44   0.75          1.0  \n",
       "4504                 carry on platform     B60   0.50          1.0  \n",
       "4506                 carry on platform     B61   0.75          1.0  \n",
       "4550                    carry platform     F16   0.50          1.0  "
      ]
     },
     "execution_count": 47,
     "metadata": {},
     "output_type": "execute_result"
    }
   ],
   "source": [
    "train_df[(train_df['lemma_score']==1.0) & (train_df['score']!=1.0)].head(25)"
   ]
  },
  {
   "cell_type": "code",
   "execution_count": 48,
   "metadata": {},
   "outputs": [],
   "source": [
    "def compare_lemmas2(phrase1, phrase2):\n",
    "    lemmas1 = get_lemmas(phrase1)\n",
    "    lemmas2 = get_lemmas(phrase2)\n",
    "    if set(lemmas1) == set(lemmas2):\n",
    "        if lemmas1 == lemmas2:\n",
    "            return 1.0\n",
    "        return 0.75\n",
    "    return 0.0"
   ]
  },
  {
   "cell_type": "code",
   "execution_count": 49,
   "metadata": {},
   "outputs": [],
   "source": [
    "train_df['lemma_score2'] = train_df.apply(lambda x: compare_lemmas2(x['anchor'], x['target']), axis=1)"
   ]
  },
  {
   "cell_type": "code",
   "execution_count": 50,
   "metadata": {},
   "outputs": [
    {
     "data": {
      "text/plain": [
       "(706, 7)"
      ]
     },
     "execution_count": 50,
     "metadata": {},
     "output_type": "execute_result"
    }
   ],
   "source": [
    "train_df[(train_df['lemma_score2']==1.0) & (train_df['score']==1.0)].shape"
   ]
  },
  {
   "cell_type": "code",
   "execution_count": 51,
   "metadata": {},
   "outputs": [
    {
     "data": {
      "text/plain": [
       "(177, 7)"
      ]
     },
     "execution_count": 51,
     "metadata": {},
     "output_type": "execute_result"
    }
   ],
   "source": [
    "train_df[(train_df['lemma_score2']==1.0) & (train_df['score']!=1.0)].shape"
   ]
  },
  {
   "cell_type": "code",
   "execution_count": 52,
   "metadata": {},
   "outputs": [
    {
     "data": {
      "text/html": [
       "<div>\n",
       "<style scoped>\n",
       "    .dataframe tbody tr th:only-of-type {\n",
       "        vertical-align: middle;\n",
       "    }\n",
       "\n",
       "    .dataframe tbody tr th {\n",
       "        vertical-align: top;\n",
       "    }\n",
       "\n",
       "    .dataframe thead th {\n",
       "        text-align: right;\n",
       "    }\n",
       "</style>\n",
       "<table border=\"1\" class=\"dataframe\">\n",
       "  <thead>\n",
       "    <tr style=\"text-align: right;\">\n",
       "      <th></th>\n",
       "      <th>id</th>\n",
       "      <th>anchor</th>\n",
       "      <th>target</th>\n",
       "      <th>context</th>\n",
       "      <th>score</th>\n",
       "      <th>lemma_score</th>\n",
       "      <th>lemma_score2</th>\n",
       "    </tr>\n",
       "  </thead>\n",
       "  <tbody>\n",
       "    <tr>\n",
       "      <th>214</th>\n",
       "      <td>1b9e8b4b43d11ca6</td>\n",
       "      <td>accept information</td>\n",
       "      <td>accept this information</td>\n",
       "      <td>A45</td>\n",
       "      <td>0.75</td>\n",
       "      <td>1.0</td>\n",
       "      <td>1.0</td>\n",
       "    </tr>\n",
       "    <tr>\n",
       "      <th>216</th>\n",
       "      <td>c94e7b08d9402064</td>\n",
       "      <td>accept information</td>\n",
       "      <td>accepting information from</td>\n",
       "      <td>A45</td>\n",
       "      <td>0.75</td>\n",
       "      <td>1.0</td>\n",
       "      <td>1.0</td>\n",
       "    </tr>\n",
       "    <tr>\n",
       "      <th>1828</th>\n",
       "      <td>141a9c7a7bb0d6b3</td>\n",
       "      <td>apply on tube</td>\n",
       "      <td>apply to tube</td>\n",
       "      <td>F16</td>\n",
       "      <td>0.75</td>\n",
       "      <td>1.0</td>\n",
       "      <td>1.0</td>\n",
       "    </tr>\n",
       "    <tr>\n",
       "      <th>1850</th>\n",
       "      <td>bc9d8f58f814e0cb</td>\n",
       "      <td>apply to anode electrode</td>\n",
       "      <td>apply between anode electrode</td>\n",
       "      <td>H01</td>\n",
       "      <td>0.75</td>\n",
       "      <td>1.0</td>\n",
       "      <td>1.0</td>\n",
       "    </tr>\n",
       "    <tr>\n",
       "      <th>1899</th>\n",
       "      <td>99d105ef372366ae</td>\n",
       "      <td>apply to requests</td>\n",
       "      <td>apply to both requests</td>\n",
       "      <td>H04</td>\n",
       "      <td>0.75</td>\n",
       "      <td>1.0</td>\n",
       "      <td>1.0</td>\n",
       "    </tr>\n",
       "    <tr>\n",
       "      <th>2797</th>\n",
       "      <td>de263d3633fb36e9</td>\n",
       "      <td>azabicyclo</td>\n",
       "      <td>1 azabicyclo</td>\n",
       "      <td>G01</td>\n",
       "      <td>0.50</td>\n",
       "      <td>1.0</td>\n",
       "      <td>1.0</td>\n",
       "    </tr>\n",
       "    <tr>\n",
       "      <th>2870</th>\n",
       "      <td>7d7ce6f2840f62df</td>\n",
       "      <td>base fuels</td>\n",
       "      <td>based fuels</td>\n",
       "      <td>C10</td>\n",
       "      <td>0.50</td>\n",
       "      <td>1.0</td>\n",
       "      <td>1.0</td>\n",
       "    </tr>\n",
       "    <tr>\n",
       "      <th>3666</th>\n",
       "      <td>f297ea79eab86071</td>\n",
       "      <td>boom hydraulic cylinder</td>\n",
       "      <td>boom a hydraulic cylinder</td>\n",
       "      <td>E02</td>\n",
       "      <td>0.00</td>\n",
       "      <td>1.0</td>\n",
       "      <td>1.0</td>\n",
       "    </tr>\n",
       "    <tr>\n",
       "      <th>4369</th>\n",
       "      <td>9bae93608b5c4e52</td>\n",
       "      <td>carpet tiles</td>\n",
       "      <td>carpet in tile</td>\n",
       "      <td>B41</td>\n",
       "      <td>0.75</td>\n",
       "      <td>1.0</td>\n",
       "      <td>1.0</td>\n",
       "    </tr>\n",
       "    <tr>\n",
       "      <th>4401</th>\n",
       "      <td>47426c640707f475</td>\n",
       "      <td>carpet tiles</td>\n",
       "      <td>carpet in tile</td>\n",
       "      <td>B44</td>\n",
       "      <td>0.75</td>\n",
       "      <td>1.0</td>\n",
       "      <td>1.0</td>\n",
       "    </tr>\n",
       "    <tr>\n",
       "      <th>4504</th>\n",
       "      <td>b892011ab2e2cabc</td>\n",
       "      <td>carry by platform</td>\n",
       "      <td>carry on platform</td>\n",
       "      <td>B60</td>\n",
       "      <td>0.50</td>\n",
       "      <td>1.0</td>\n",
       "      <td>1.0</td>\n",
       "    </tr>\n",
       "    <tr>\n",
       "      <th>4506</th>\n",
       "      <td>658f8bc92aba3228</td>\n",
       "      <td>carry by platform</td>\n",
       "      <td>carry on platform</td>\n",
       "      <td>B61</td>\n",
       "      <td>0.75</td>\n",
       "      <td>1.0</td>\n",
       "      <td>1.0</td>\n",
       "    </tr>\n",
       "    <tr>\n",
       "      <th>4550</th>\n",
       "      <td>a6b717b457051117</td>\n",
       "      <td>carry by platform</td>\n",
       "      <td>carry platform</td>\n",
       "      <td>F16</td>\n",
       "      <td>0.50</td>\n",
       "      <td>1.0</td>\n",
       "      <td>1.0</td>\n",
       "    </tr>\n",
       "    <tr>\n",
       "      <th>4573</th>\n",
       "      <td>633d5423da423585</td>\n",
       "      <td>catalyst paste</td>\n",
       "      <td>above catalyst paste</td>\n",
       "      <td>B01</td>\n",
       "      <td>0.75</td>\n",
       "      <td>1.0</td>\n",
       "      <td>1.0</td>\n",
       "    </tr>\n",
       "    <tr>\n",
       "      <th>5006</th>\n",
       "      <td>3dc843d0c815f298</td>\n",
       "      <td>central nucleus</td>\n",
       "      <td>central nuclei</td>\n",
       "      <td>C09</td>\n",
       "      <td>0.75</td>\n",
       "      <td>1.0</td>\n",
       "      <td>1.0</td>\n",
       "    </tr>\n",
       "    <tr>\n",
       "      <th>5121</th>\n",
       "      <td>3c8e8b15d2721b27</td>\n",
       "      <td>channel vectors</td>\n",
       "      <td>channel of vectors</td>\n",
       "      <td>H04</td>\n",
       "      <td>0.00</td>\n",
       "      <td>1.0</td>\n",
       "      <td>1.0</td>\n",
       "    </tr>\n",
       "    <tr>\n",
       "      <th>5126</th>\n",
       "      <td>5d9e69bd63e69979</td>\n",
       "      <td>channel vectors</td>\n",
       "      <td>channels of vectors</td>\n",
       "      <td>H04</td>\n",
       "      <td>0.00</td>\n",
       "      <td>1.0</td>\n",
       "      <td>1.0</td>\n",
       "    </tr>\n",
       "    <tr>\n",
       "      <th>5706</th>\n",
       "      <td>d4079f62362213df</td>\n",
       "      <td>close gate</td>\n",
       "      <td>close by gate</td>\n",
       "      <td>B65</td>\n",
       "      <td>0.50</td>\n",
       "      <td>1.0</td>\n",
       "      <td>1.0</td>\n",
       "    </tr>\n",
       "    <tr>\n",
       "      <th>5726</th>\n",
       "      <td>da157228673d9d6d</td>\n",
       "      <td>close gate</td>\n",
       "      <td>close by gate</td>\n",
       "      <td>F03</td>\n",
       "      <td>0.50</td>\n",
       "      <td>1.0</td>\n",
       "      <td>1.0</td>\n",
       "    </tr>\n",
       "    <tr>\n",
       "      <th>5727</th>\n",
       "      <td>5d3dbc3b71d6b0eb</td>\n",
       "      <td>close gate</td>\n",
       "      <td>close to gate</td>\n",
       "      <td>F03</td>\n",
       "      <td>0.50</td>\n",
       "      <td>1.0</td>\n",
       "      <td>1.0</td>\n",
       "    </tr>\n",
       "    <tr>\n",
       "      <th>6704</th>\n",
       "      <td>a9257d55bc1495f6</td>\n",
       "      <td>compression loss</td>\n",
       "      <td>over compression loss</td>\n",
       "      <td>F04</td>\n",
       "      <td>0.75</td>\n",
       "      <td>1.0</td>\n",
       "      <td>1.0</td>\n",
       "    </tr>\n",
       "    <tr>\n",
       "      <th>6712</th>\n",
       "      <td>63caad3341773168</td>\n",
       "      <td>compression loss</td>\n",
       "      <td>under compression loss</td>\n",
       "      <td>F04</td>\n",
       "      <td>0.50</td>\n",
       "      <td>1.0</td>\n",
       "      <td>1.0</td>\n",
       "    </tr>\n",
       "    <tr>\n",
       "      <th>7099</th>\n",
       "      <td>b762e9ca33ce34aa</td>\n",
       "      <td>connect with conduits</td>\n",
       "      <td>connect by conduits</td>\n",
       "      <td>B21</td>\n",
       "      <td>0.75</td>\n",
       "      <td>1.0</td>\n",
       "      <td>1.0</td>\n",
       "    </tr>\n",
       "    <tr>\n",
       "      <th>7100</th>\n",
       "      <td>839368278ddc91c4</td>\n",
       "      <td>connect with conduits</td>\n",
       "      <td>connect conduits</td>\n",
       "      <td>B21</td>\n",
       "      <td>0.75</td>\n",
       "      <td>1.0</td>\n",
       "      <td>1.0</td>\n",
       "    </tr>\n",
       "    <tr>\n",
       "      <th>7124</th>\n",
       "      <td>73c43687992ef141</td>\n",
       "      <td>connect with conduits</td>\n",
       "      <td>connect conduits</td>\n",
       "      <td>F02</td>\n",
       "      <td>0.50</td>\n",
       "      <td>1.0</td>\n",
       "      <td>1.0</td>\n",
       "    </tr>\n",
       "  </tbody>\n",
       "</table>\n",
       "</div>"
      ],
      "text/plain": [
       "                    id                    anchor  \\\n",
       "214   1b9e8b4b43d11ca6        accept information   \n",
       "216   c94e7b08d9402064        accept information   \n",
       "1828  141a9c7a7bb0d6b3             apply on tube   \n",
       "1850  bc9d8f58f814e0cb  apply to anode electrode   \n",
       "1899  99d105ef372366ae         apply to requests   \n",
       "2797  de263d3633fb36e9                azabicyclo   \n",
       "2870  7d7ce6f2840f62df                base fuels   \n",
       "3666  f297ea79eab86071   boom hydraulic cylinder   \n",
       "4369  9bae93608b5c4e52              carpet tiles   \n",
       "4401  47426c640707f475              carpet tiles   \n",
       "4504  b892011ab2e2cabc         carry by platform   \n",
       "4506  658f8bc92aba3228         carry by platform   \n",
       "4550  a6b717b457051117         carry by platform   \n",
       "4573  633d5423da423585            catalyst paste   \n",
       "5006  3dc843d0c815f298           central nucleus   \n",
       "5121  3c8e8b15d2721b27           channel vectors   \n",
       "5126  5d9e69bd63e69979           channel vectors   \n",
       "5706  d4079f62362213df                close gate   \n",
       "5726  da157228673d9d6d                close gate   \n",
       "5727  5d3dbc3b71d6b0eb                close gate   \n",
       "6704  a9257d55bc1495f6          compression loss   \n",
       "6712  63caad3341773168          compression loss   \n",
       "7099  b762e9ca33ce34aa     connect with conduits   \n",
       "7100  839368278ddc91c4     connect with conduits   \n",
       "7124  73c43687992ef141     connect with conduits   \n",
       "\n",
       "                             target context  score  lemma_score  lemma_score2  \n",
       "214         accept this information     A45   0.75          1.0           1.0  \n",
       "216      accepting information from     A45   0.75          1.0           1.0  \n",
       "1828                  apply to tube     F16   0.75          1.0           1.0  \n",
       "1850  apply between anode electrode     H01   0.75          1.0           1.0  \n",
       "1899         apply to both requests     H04   0.75          1.0           1.0  \n",
       "2797                   1 azabicyclo     G01   0.50          1.0           1.0  \n",
       "2870                    based fuels     C10   0.50          1.0           1.0  \n",
       "3666      boom a hydraulic cylinder     E02   0.00          1.0           1.0  \n",
       "4369                 carpet in tile     B41   0.75          1.0           1.0  \n",
       "4401                 carpet in tile     B44   0.75          1.0           1.0  \n",
       "4504              carry on platform     B60   0.50          1.0           1.0  \n",
       "4506              carry on platform     B61   0.75          1.0           1.0  \n",
       "4550                 carry platform     F16   0.50          1.0           1.0  \n",
       "4573           above catalyst paste     B01   0.75          1.0           1.0  \n",
       "5006                 central nuclei     C09   0.75          1.0           1.0  \n",
       "5121             channel of vectors     H04   0.00          1.0           1.0  \n",
       "5126            channels of vectors     H04   0.00          1.0           1.0  \n",
       "5706                  close by gate     B65   0.50          1.0           1.0  \n",
       "5726                  close by gate     F03   0.50          1.0           1.0  \n",
       "5727                  close to gate     F03   0.50          1.0           1.0  \n",
       "6704          over compression loss     F04   0.75          1.0           1.0  \n",
       "6712         under compression loss     F04   0.50          1.0           1.0  \n",
       "7099            connect by conduits     B21   0.75          1.0           1.0  \n",
       "7100               connect conduits     B21   0.75          1.0           1.0  \n",
       "7124               connect conduits     F02   0.50          1.0           1.0  "
      ]
     },
     "execution_count": 52,
     "metadata": {},
     "output_type": "execute_result"
    }
   ],
   "source": [
    "train_df[(train_df['lemma_score2']==1.0) & (train_df['score']!=1.0)].head(25)"
   ]
  },
  {
   "cell_type": "code",
   "execution_count": 72,
   "metadata": {},
   "outputs": [],
   "source": [
    "def compare_lemmas3(phrase1, phrase2):\n",
    "    lemmas1 = get_lemmas(phrase1)\n",
    "    lemmas2 = get_lemmas(phrase2)\n",
    "    if set(lemmas1) == set(lemmas2):\n",
    "        if lemmas1 == lemmas2:\n",
    "            if (len(phrase1.split(' ')) == len(lemmas1)) & (len(phrase2.split(' ')) == len(lemmas2)) :\n",
    "                return 1.0\n",
    "        return 0.75\n",
    "    return 0.0"
   ]
  },
  {
   "cell_type": "code",
   "execution_count": 60,
   "metadata": {},
   "outputs": [],
   "source": [
    "train_df['lemma_score3'] = train_df.apply(lambda x: compare_lemmas3(x['anchor'], x['target']), axis=1)"
   ]
  },
  {
   "cell_type": "code",
   "execution_count": 61,
   "metadata": {},
   "outputs": [
    {
     "data": {
      "text/plain": [
       "(620, 8)"
      ]
     },
     "execution_count": 61,
     "metadata": {},
     "output_type": "execute_result"
    }
   ],
   "source": [
    "train_df[(train_df['lemma_score3']==1.0) & (train_df['score']==1.0)].shape"
   ]
  },
  {
   "cell_type": "code",
   "execution_count": 62,
   "metadata": {},
   "outputs": [
    {
     "data": {
      "text/plain": [
       "(19, 8)"
      ]
     },
     "execution_count": 62,
     "metadata": {},
     "output_type": "execute_result"
    }
   ],
   "source": [
    "train_df[(train_df['lemma_score3']==1.0) & (train_df['score']!=1.0)].shape"
   ]
  },
  {
   "cell_type": "code",
   "execution_count": 63,
   "metadata": {},
   "outputs": [
    {
     "data": {
      "text/html": [
       "<div>\n",
       "<style scoped>\n",
       "    .dataframe tbody tr th:only-of-type {\n",
       "        vertical-align: middle;\n",
       "    }\n",
       "\n",
       "    .dataframe tbody tr th {\n",
       "        vertical-align: top;\n",
       "    }\n",
       "\n",
       "    .dataframe thead th {\n",
       "        text-align: right;\n",
       "    }\n",
       "</style>\n",
       "<table border=\"1\" class=\"dataframe\">\n",
       "  <thead>\n",
       "    <tr style=\"text-align: right;\">\n",
       "      <th></th>\n",
       "      <th>id</th>\n",
       "      <th>anchor</th>\n",
       "      <th>target</th>\n",
       "      <th>context</th>\n",
       "      <th>score</th>\n",
       "      <th>lemma_score</th>\n",
       "      <th>lemma_score2</th>\n",
       "      <th>lemma_score3</th>\n",
       "    </tr>\n",
       "  </thead>\n",
       "  <tbody>\n",
       "    <tr>\n",
       "      <th>2870</th>\n",
       "      <td>7d7ce6f2840f62df</td>\n",
       "      <td>base fuels</td>\n",
       "      <td>based fuels</td>\n",
       "      <td>C10</td>\n",
       "      <td>0.50</td>\n",
       "      <td>1.0</td>\n",
       "      <td>1.0</td>\n",
       "      <td>1.0</td>\n",
       "    </tr>\n",
       "    <tr>\n",
       "      <th>5006</th>\n",
       "      <td>3dc843d0c815f298</td>\n",
       "      <td>central nucleus</td>\n",
       "      <td>central nuclei</td>\n",
       "      <td>C09</td>\n",
       "      <td>0.75</td>\n",
       "      <td>1.0</td>\n",
       "      <td>1.0</td>\n",
       "      <td>1.0</td>\n",
       "    </tr>\n",
       "    <tr>\n",
       "      <th>9728</th>\n",
       "      <td>ebc1afcd555078c4</td>\n",
       "      <td>display object</td>\n",
       "      <td>display objects</td>\n",
       "      <td>G04</td>\n",
       "      <td>0.75</td>\n",
       "      <td>1.0</td>\n",
       "      <td>1.0</td>\n",
       "      <td>1.0</td>\n",
       "    </tr>\n",
       "    <tr>\n",
       "      <th>10222</th>\n",
       "      <td>7bd34470550626b9</td>\n",
       "      <td>drive balls</td>\n",
       "      <td>driving balls</td>\n",
       "      <td>B05</td>\n",
       "      <td>0.75</td>\n",
       "      <td>1.0</td>\n",
       "      <td>1.0</td>\n",
       "      <td>1.0</td>\n",
       "    </tr>\n",
       "    <tr>\n",
       "      <th>11257</th>\n",
       "      <td>1fc8b3f3535d5695</td>\n",
       "      <td>embedding groove</td>\n",
       "      <td>embed groove</td>\n",
       "      <td>B25</td>\n",
       "      <td>0.75</td>\n",
       "      <td>1.0</td>\n",
       "      <td>1.0</td>\n",
       "      <td>1.0</td>\n",
       "    </tr>\n",
       "    <tr>\n",
       "      <th>12201</th>\n",
       "      <td>1079dfc256101746</td>\n",
       "      <td>extend areas</td>\n",
       "      <td>extended area</td>\n",
       "      <td>A24</td>\n",
       "      <td>0.75</td>\n",
       "      <td>1.0</td>\n",
       "      <td>1.0</td>\n",
       "      <td>1.0</td>\n",
       "    </tr>\n",
       "    <tr>\n",
       "      <th>18739</th>\n",
       "      <td>213a922e11f3957c</td>\n",
       "      <td>lower stretches</td>\n",
       "      <td>low stretches</td>\n",
       "      <td>F03</td>\n",
       "      <td>0.50</td>\n",
       "      <td>1.0</td>\n",
       "      <td>1.0</td>\n",
       "      <td>1.0</td>\n",
       "    </tr>\n",
       "    <tr>\n",
       "      <th>24646</th>\n",
       "      <td>14d11fa15acb761b</td>\n",
       "      <td>polls</td>\n",
       "      <td>poll</td>\n",
       "      <td>B21</td>\n",
       "      <td>0.75</td>\n",
       "      <td>1.0</td>\n",
       "      <td>1.0</td>\n",
       "      <td>1.0</td>\n",
       "    </tr>\n",
       "    <tr>\n",
       "      <th>26648</th>\n",
       "      <td>1bb3f7eb752be6c4</td>\n",
       "      <td>pulsed plasma</td>\n",
       "      <td>pulse plasma</td>\n",
       "      <td>H05</td>\n",
       "      <td>0.75</td>\n",
       "      <td>1.0</td>\n",
       "      <td>1.0</td>\n",
       "      <td>1.0</td>\n",
       "    </tr>\n",
       "    <tr>\n",
       "      <th>26756</th>\n",
       "      <td>87c9433dd134836a</td>\n",
       "      <td>punch face</td>\n",
       "      <td>punch faces</td>\n",
       "      <td>B21</td>\n",
       "      <td>0.75</td>\n",
       "      <td>1.0</td>\n",
       "      <td>1.0</td>\n",
       "      <td>1.0</td>\n",
       "    </tr>\n",
       "    <tr>\n",
       "      <th>27919</th>\n",
       "      <td>afd794081f25bf48</td>\n",
       "      <td>retaining insert</td>\n",
       "      <td>retaining inserts</td>\n",
       "      <td>H01</td>\n",
       "      <td>0.75</td>\n",
       "      <td>1.0</td>\n",
       "      <td>1.0</td>\n",
       "      <td>1.0</td>\n",
       "    </tr>\n",
       "    <tr>\n",
       "      <th>29435</th>\n",
       "      <td>8f07f508fa90e4ee</td>\n",
       "      <td>search indices</td>\n",
       "      <td>search index</td>\n",
       "      <td>G06</td>\n",
       "      <td>0.75</td>\n",
       "      <td>1.0</td>\n",
       "      <td>1.0</td>\n",
       "      <td>1.0</td>\n",
       "    </tr>\n",
       "    <tr>\n",
       "      <th>29436</th>\n",
       "      <td>36f4ae151b2e7730</td>\n",
       "      <td>search indices</td>\n",
       "      <td>search indexes</td>\n",
       "      <td>G06</td>\n",
       "      <td>0.75</td>\n",
       "      <td>1.0</td>\n",
       "      <td>1.0</td>\n",
       "      <td>1.0</td>\n",
       "    </tr>\n",
       "    <tr>\n",
       "      <th>29437</th>\n",
       "      <td>c233d571fde6d0d8</td>\n",
       "      <td>search indices</td>\n",
       "      <td>search indexing</td>\n",
       "      <td>G06</td>\n",
       "      <td>0.75</td>\n",
       "      <td>1.0</td>\n",
       "      <td>1.0</td>\n",
       "      <td>1.0</td>\n",
       "    </tr>\n",
       "    <tr>\n",
       "      <th>29549</th>\n",
       "      <td>d0ce26da9ae9e6aa</td>\n",
       "      <td>seeded</td>\n",
       "      <td>seed</td>\n",
       "      <td>A61</td>\n",
       "      <td>0.50</td>\n",
       "      <td>1.0</td>\n",
       "      <td>1.0</td>\n",
       "      <td>1.0</td>\n",
       "    </tr>\n",
       "    <tr>\n",
       "      <th>29556</th>\n",
       "      <td>f66d361eecf8b29d</td>\n",
       "      <td>seeded</td>\n",
       "      <td>seed</td>\n",
       "      <td>C22</td>\n",
       "      <td>0.50</td>\n",
       "      <td>1.0</td>\n",
       "      <td>1.0</td>\n",
       "      <td>1.0</td>\n",
       "    </tr>\n",
       "    <tr>\n",
       "      <th>31681</th>\n",
       "      <td>5b89bb0664fb86f5</td>\n",
       "      <td>spreader body</td>\n",
       "      <td>spreader bodies</td>\n",
       "      <td>B66</td>\n",
       "      <td>0.75</td>\n",
       "      <td>1.0</td>\n",
       "      <td>1.0</td>\n",
       "      <td>1.0</td>\n",
       "    </tr>\n",
       "    <tr>\n",
       "      <th>32754</th>\n",
       "      <td>214d55722d50317d</td>\n",
       "      <td>tap portion</td>\n",
       "      <td>tapping portion</td>\n",
       "      <td>B23</td>\n",
       "      <td>0.75</td>\n",
       "      <td>1.0</td>\n",
       "      <td>1.0</td>\n",
       "      <td>1.0</td>\n",
       "    </tr>\n",
       "    <tr>\n",
       "      <th>36075</th>\n",
       "      <td>7489a36a82ae6c63</td>\n",
       "      <td>wedge device</td>\n",
       "      <td>wedge devices</td>\n",
       "      <td>E01</td>\n",
       "      <td>0.50</td>\n",
       "      <td>1.0</td>\n",
       "      <td>1.0</td>\n",
       "      <td>1.0</td>\n",
       "    </tr>\n",
       "  </tbody>\n",
       "</table>\n",
       "</div>"
      ],
      "text/plain": [
       "                     id            anchor             target context  score  \\\n",
       "2870   7d7ce6f2840f62df        base fuels        based fuels     C10   0.50   \n",
       "5006   3dc843d0c815f298   central nucleus     central nuclei     C09   0.75   \n",
       "9728   ebc1afcd555078c4    display object    display objects     G04   0.75   \n",
       "10222  7bd34470550626b9       drive balls      driving balls     B05   0.75   \n",
       "11257  1fc8b3f3535d5695  embedding groove       embed groove     B25   0.75   \n",
       "12201  1079dfc256101746      extend areas      extended area     A24   0.75   \n",
       "18739  213a922e11f3957c   lower stretches      low stretches     F03   0.50   \n",
       "24646  14d11fa15acb761b             polls               poll     B21   0.75   \n",
       "26648  1bb3f7eb752be6c4     pulsed plasma       pulse plasma     H05   0.75   \n",
       "26756  87c9433dd134836a        punch face        punch faces     B21   0.75   \n",
       "27919  afd794081f25bf48  retaining insert  retaining inserts     H01   0.75   \n",
       "29435  8f07f508fa90e4ee    search indices       search index     G06   0.75   \n",
       "29436  36f4ae151b2e7730    search indices     search indexes     G06   0.75   \n",
       "29437  c233d571fde6d0d8    search indices    search indexing     G06   0.75   \n",
       "29549  d0ce26da9ae9e6aa            seeded               seed     A61   0.50   \n",
       "29556  f66d361eecf8b29d            seeded               seed     C22   0.50   \n",
       "31681  5b89bb0664fb86f5     spreader body    spreader bodies     B66   0.75   \n",
       "32754  214d55722d50317d       tap portion    tapping portion     B23   0.75   \n",
       "36075  7489a36a82ae6c63      wedge device      wedge devices     E01   0.50   \n",
       "\n",
       "       lemma_score  lemma_score2  lemma_score3  \n",
       "2870           1.0           1.0           1.0  \n",
       "5006           1.0           1.0           1.0  \n",
       "9728           1.0           1.0           1.0  \n",
       "10222          1.0           1.0           1.0  \n",
       "11257          1.0           1.0           1.0  \n",
       "12201          1.0           1.0           1.0  \n",
       "18739          1.0           1.0           1.0  \n",
       "24646          1.0           1.0           1.0  \n",
       "26648          1.0           1.0           1.0  \n",
       "26756          1.0           1.0           1.0  \n",
       "27919          1.0           1.0           1.0  \n",
       "29435          1.0           1.0           1.0  \n",
       "29436          1.0           1.0           1.0  \n",
       "29437          1.0           1.0           1.0  \n",
       "29549          1.0           1.0           1.0  \n",
       "29556          1.0           1.0           1.0  \n",
       "31681          1.0           1.0           1.0  \n",
       "32754          1.0           1.0           1.0  \n",
       "36075          1.0           1.0           1.0  "
      ]
     },
     "execution_count": 63,
     "metadata": {},
     "output_type": "execute_result"
    }
   ],
   "source": [
    "train_df[(train_df['lemma_score3']==1.0) & (train_df['score']!=1.0)].head(25)"
   ]
  },
  {
   "cell_type": "code",
   "execution_count": 64,
   "metadata": {},
   "outputs": [
    {
     "data": {
      "text/plain": [
       "(179, 8)"
      ]
     },
     "execution_count": 64,
     "metadata": {},
     "output_type": "execute_result"
    }
   ],
   "source": [
    "train_df[(train_df['lemma_score3']==0.75) & (train_df['score']==1.0)].shape"
   ]
  },
  {
   "cell_type": "code",
   "execution_count": 65,
   "metadata": {},
   "outputs": [
    {
     "data": {
      "text/html": [
       "<div>\n",
       "<style scoped>\n",
       "    .dataframe tbody tr th:only-of-type {\n",
       "        vertical-align: middle;\n",
       "    }\n",
       "\n",
       "    .dataframe tbody tr th {\n",
       "        vertical-align: top;\n",
       "    }\n",
       "\n",
       "    .dataframe thead th {\n",
       "        text-align: right;\n",
       "    }\n",
       "</style>\n",
       "<table border=\"1\" class=\"dataframe\">\n",
       "  <thead>\n",
       "    <tr style=\"text-align: right;\">\n",
       "      <th></th>\n",
       "      <th>id</th>\n",
       "      <th>anchor</th>\n",
       "      <th>target</th>\n",
       "      <th>context</th>\n",
       "      <th>score</th>\n",
       "      <th>lemma_score</th>\n",
       "      <th>lemma_score2</th>\n",
       "      <th>lemma_score3</th>\n",
       "    </tr>\n",
       "  </thead>\n",
       "  <tbody>\n",
       "    <tr>\n",
       "      <th>311</th>\n",
       "      <td>e955700dffd68624</td>\n",
       "      <td>acid absorption</td>\n",
       "      <td>absorption of acid</td>\n",
       "      <td>B08</td>\n",
       "      <td>1.0</td>\n",
       "      <td>1.0</td>\n",
       "      <td>0.75</td>\n",
       "      <td>0.75</td>\n",
       "    </tr>\n",
       "    <tr>\n",
       "      <th>713</th>\n",
       "      <td>f3d0de522d259188</td>\n",
       "      <td>adjacent laterally</td>\n",
       "      <td>laterally adjacent</td>\n",
       "      <td>A41</td>\n",
       "      <td>1.0</td>\n",
       "      <td>1.0</td>\n",
       "      <td>0.75</td>\n",
       "      <td>0.75</td>\n",
       "    </tr>\n",
       "    <tr>\n",
       "      <th>744</th>\n",
       "      <td>6eb16b4b2255a4eb</td>\n",
       "      <td>adjacent laterally</td>\n",
       "      <td>laterally adjacent</td>\n",
       "      <td>B23</td>\n",
       "      <td>1.0</td>\n",
       "      <td>1.0</td>\n",
       "      <td>0.75</td>\n",
       "      <td>0.75</td>\n",
       "    </tr>\n",
       "    <tr>\n",
       "      <th>826</th>\n",
       "      <td>1e59a41f6ea51c98</td>\n",
       "      <td>adjustable multiple</td>\n",
       "      <td>multiple adjustable</td>\n",
       "      <td>B23</td>\n",
       "      <td>1.0</td>\n",
       "      <td>1.0</td>\n",
       "      <td>0.75</td>\n",
       "      <td>0.75</td>\n",
       "    </tr>\n",
       "    <tr>\n",
       "      <th>913</th>\n",
       "      <td>db9cdd7e95b800ad</td>\n",
       "      <td>agitate means</td>\n",
       "      <td>agitate by means</td>\n",
       "      <td>B01</td>\n",
       "      <td>1.0</td>\n",
       "      <td>1.0</td>\n",
       "      <td>1.00</td>\n",
       "      <td>0.75</td>\n",
       "    </tr>\n",
       "  </tbody>\n",
       "</table>\n",
       "</div>"
      ],
      "text/plain": [
       "                   id               anchor               target context  \\\n",
       "311  e955700dffd68624      acid absorption   absorption of acid     B08   \n",
       "713  f3d0de522d259188   adjacent laterally   laterally adjacent     A41   \n",
       "744  6eb16b4b2255a4eb   adjacent laterally   laterally adjacent     B23   \n",
       "826  1e59a41f6ea51c98  adjustable multiple  multiple adjustable     B23   \n",
       "913  db9cdd7e95b800ad        agitate means     agitate by means     B01   \n",
       "\n",
       "     score  lemma_score  lemma_score2  lemma_score3  \n",
       "311    1.0          1.0          0.75          0.75  \n",
       "713    1.0          1.0          0.75          0.75  \n",
       "744    1.0          1.0          0.75          0.75  \n",
       "826    1.0          1.0          0.75          0.75  \n",
       "913    1.0          1.0          1.00          0.75  "
      ]
     },
     "execution_count": 65,
     "metadata": {},
     "output_type": "execute_result"
    }
   ],
   "source": [
    "train_df[(train_df['lemma_score3']==0.75) & (train_df['score']==1.0)].head()"
   ]
  },
  {
   "cell_type": "code",
   "execution_count": 69,
   "metadata": {},
   "outputs": [],
   "source": [
    "lemmas1 = get_lemmas(train_df.iloc[744]['anchor'])\n",
    "lemmas2 = get_lemmas(train_df.iloc[744]['target'])"
   ]
  },
  {
   "cell_type": "code",
   "execution_count": 70,
   "metadata": {},
   "outputs": [
    {
     "data": {
      "text/plain": [
       "['adjacent', 'laterally']"
      ]
     },
     "execution_count": 70,
     "metadata": {},
     "output_type": "execute_result"
    }
   ],
   "source": [
    "lemmas1"
   ]
  },
  {
   "cell_type": "code",
   "execution_count": 71,
   "metadata": {},
   "outputs": [
    {
     "data": {
      "text/plain": [
       "['laterally', 'adjacent']"
      ]
     },
     "execution_count": 71,
     "metadata": {},
     "output_type": "execute_result"
    }
   ],
   "source": [
    "lemmas2"
   ]
  },
  {
   "cell_type": "code",
   "execution_count": 75,
   "metadata": {},
   "outputs": [],
   "source": [
    "def compare_lemmas4(phrase1, phrase2):\n",
    "    if phrase1 == phrase2:\n",
    "        return 1.0\n",
    "    if set(phrase1.split(' ')) == set(phrase2.split(' ')):\n",
    "        return 1.0\n",
    "    lemmas1 = get_lemmas(phrase1)\n",
    "    lemmas2 = get_lemmas(phrase2)\n",
    "    if set(lemmas1) == set(lemmas2):\n",
    "        if lemmas1 == lemmas2:\n",
    "            if (len(phrase1.split(' ')) == len(lemmas1)) & (len(phrase2.split(' ')) == len(lemmas2) ):\n",
    "                return 1.0\n",
    "        return 0.75\n",
    "    return 0.0"
   ]
  },
  {
   "cell_type": "code",
   "execution_count": 76,
   "metadata": {},
   "outputs": [],
   "source": [
    "train_df['lemma_score4'] = train_df.apply(lambda x: compare_lemmas4(x['anchor'], x['target']), axis=1)"
   ]
  },
  {
   "cell_type": "code",
   "execution_count": 77,
   "metadata": {},
   "outputs": [
    {
     "data": {
      "text/plain": [
       "(703, 9)"
      ]
     },
     "execution_count": 77,
     "metadata": {},
     "output_type": "execute_result"
    }
   ],
   "source": [
    "train_df[(train_df['lemma_score4']==1.0) & (train_df['score']==1.0)].shape"
   ]
  },
  {
   "cell_type": "code",
   "execution_count": 78,
   "metadata": {},
   "outputs": [
    {
     "data": {
      "text/plain": [
       "(73, 9)"
      ]
     },
     "execution_count": 78,
     "metadata": {},
     "output_type": "execute_result"
    }
   ],
   "source": [
    "train_df[(train_df['lemma_score4']==1.0) & (train_df['score']!=1.0)].shape"
   ]
  },
  {
   "cell_type": "code",
   "execution_count": 79,
   "metadata": {},
   "outputs": [
    {
     "data": {
      "text/plain": [
       "(451, 9)"
      ]
     },
     "execution_count": 79,
     "metadata": {},
     "output_type": "execute_result"
    }
   ],
   "source": [
    "train_df[(train_df['lemma_score4']!=1.0) & (train_df['score']==1.0)].shape"
   ]
  },
  {
   "cell_type": "code",
   "execution_count": 80,
   "metadata": {},
   "outputs": [
    {
     "data": {
      "text/plain": [
       "(96, 9)"
      ]
     },
     "execution_count": 80,
     "metadata": {},
     "output_type": "execute_result"
    }
   ],
   "source": [
    "train_df[(train_df['lemma_score4']==0.75) & (train_df['score']==1.0)].shape"
   ]
  },
  {
   "cell_type": "code",
   "execution_count": 81,
   "metadata": {},
   "outputs": [
    {
     "data": {
      "text/plain": [
       "(116, 9)"
      ]
     },
     "execution_count": 81,
     "metadata": {},
     "output_type": "execute_result"
    }
   ],
   "source": [
    "train_df[(train_df['lemma_score4']==0.75) & (train_df['score']==0.75)].shape"
   ]
  },
  {
   "cell_type": "code",
   "execution_count": 82,
   "metadata": {},
   "outputs": [
    {
     "data": {
      "text/html": [
       "<div>\n",
       "<style scoped>\n",
       "    .dataframe tbody tr th:only-of-type {\n",
       "        vertical-align: middle;\n",
       "    }\n",
       "\n",
       "    .dataframe tbody tr th {\n",
       "        vertical-align: top;\n",
       "    }\n",
       "\n",
       "    .dataframe thead th {\n",
       "        text-align: right;\n",
       "    }\n",
       "</style>\n",
       "<table border=\"1\" class=\"dataframe\">\n",
       "  <thead>\n",
       "    <tr style=\"text-align: right;\">\n",
       "      <th></th>\n",
       "      <th>score</th>\n",
       "      <th>lemma_score4</th>\n",
       "    </tr>\n",
       "  </thead>\n",
       "  <tbody>\n",
       "    <tr>\n",
       "      <th>score</th>\n",
       "      <td>1.000000</td>\n",
       "      <td>0.368831</td>\n",
       "    </tr>\n",
       "    <tr>\n",
       "      <th>lemma_score4</th>\n",
       "      <td>0.368831</td>\n",
       "      <td>1.000000</td>\n",
       "    </tr>\n",
       "  </tbody>\n",
       "</table>\n",
       "</div>"
      ],
      "text/plain": [
       "                 score  lemma_score4\n",
       "score         1.000000      0.368831\n",
       "lemma_score4  0.368831      1.000000"
      ]
     },
     "execution_count": 82,
     "metadata": {},
     "output_type": "execute_result"
    }
   ],
   "source": [
    "train_df[['score', 'lemma_score4']].corr()"
   ]
  },
  {
   "cell_type": "code",
   "execution_count": 83,
   "metadata": {},
   "outputs": [
    {
     "data": {
      "text/html": [
       "<div>\n",
       "<style scoped>\n",
       "    .dataframe tbody tr th:only-of-type {\n",
       "        vertical-align: middle;\n",
       "    }\n",
       "\n",
       "    .dataframe tbody tr th {\n",
       "        vertical-align: top;\n",
       "    }\n",
       "\n",
       "    .dataframe thead th {\n",
       "        text-align: right;\n",
       "    }\n",
       "</style>\n",
       "<table border=\"1\" class=\"dataframe\">\n",
       "  <thead>\n",
       "    <tr style=\"text-align: right;\">\n",
       "      <th></th>\n",
       "      <th>id</th>\n",
       "      <th>anchor</th>\n",
       "      <th>target</th>\n",
       "      <th>context</th>\n",
       "      <th>score</th>\n",
       "      <th>lemma_score</th>\n",
       "      <th>lemma_score2</th>\n",
       "      <th>lemma_score3</th>\n",
       "      <th>lemma_score4</th>\n",
       "    </tr>\n",
       "  </thead>\n",
       "  <tbody>\n",
       "    <tr>\n",
       "      <th>625</th>\n",
       "      <td>401fdb79d3fbcea9</td>\n",
       "      <td>adaptive linear</td>\n",
       "      <td>linear adaptive</td>\n",
       "      <td>G01</td>\n",
       "      <td>0.75</td>\n",
       "      <td>1.0</td>\n",
       "      <td>0.75</td>\n",
       "      <td>0.75</td>\n",
       "      <td>1.0</td>\n",
       "    </tr>\n",
       "    <tr>\n",
       "      <th>648</th>\n",
       "      <td>bb4fe1d01682b78b</td>\n",
       "      <td>adaptive linear</td>\n",
       "      <td>linear adaptive</td>\n",
       "      <td>H04</td>\n",
       "      <td>0.75</td>\n",
       "      <td>1.0</td>\n",
       "      <td>0.75</td>\n",
       "      <td>0.75</td>\n",
       "      <td>1.0</td>\n",
       "    </tr>\n",
       "    <tr>\n",
       "      <th>1799</th>\n",
       "      <td>76d4070823a41a20</td>\n",
       "      <td>application messaging</td>\n",
       "      <td>messaging application</td>\n",
       "      <td>G06</td>\n",
       "      <td>0.50</td>\n",
       "      <td>1.0</td>\n",
       "      <td>0.75</td>\n",
       "      <td>0.75</td>\n",
       "      <td>1.0</td>\n",
       "    </tr>\n",
       "    <tr>\n",
       "      <th>2209</th>\n",
       "      <td>12b3c70c1c49d97c</td>\n",
       "      <td>arm roller</td>\n",
       "      <td>roller arm</td>\n",
       "      <td>B27</td>\n",
       "      <td>0.75</td>\n",
       "      <td>1.0</td>\n",
       "      <td>0.75</td>\n",
       "      <td>0.75</td>\n",
       "      <td>1.0</td>\n",
       "    </tr>\n",
       "    <tr>\n",
       "      <th>2247</th>\n",
       "      <td>1bb5286edaca253a</td>\n",
       "      <td>arm roller</td>\n",
       "      <td>roller arm</td>\n",
       "      <td>E04</td>\n",
       "      <td>0.50</td>\n",
       "      <td>1.0</td>\n",
       "      <td>0.75</td>\n",
       "      <td>0.75</td>\n",
       "      <td>1.0</td>\n",
       "    </tr>\n",
       "  </tbody>\n",
       "</table>\n",
       "</div>"
      ],
      "text/plain": [
       "                    id                 anchor                 target context  \\\n",
       "625   401fdb79d3fbcea9        adaptive linear        linear adaptive     G01   \n",
       "648   bb4fe1d01682b78b        adaptive linear        linear adaptive     H04   \n",
       "1799  76d4070823a41a20  application messaging  messaging application     G06   \n",
       "2209  12b3c70c1c49d97c             arm roller             roller arm     B27   \n",
       "2247  1bb5286edaca253a             arm roller             roller arm     E04   \n",
       "\n",
       "      score  lemma_score  lemma_score2  lemma_score3  lemma_score4  \n",
       "625    0.75          1.0          0.75          0.75           1.0  \n",
       "648    0.75          1.0          0.75          0.75           1.0  \n",
       "1799   0.50          1.0          0.75          0.75           1.0  \n",
       "2209   0.75          1.0          0.75          0.75           1.0  \n",
       "2247   0.50          1.0          0.75          0.75           1.0  "
      ]
     },
     "execution_count": 83,
     "metadata": {},
     "output_type": "execute_result"
    }
   ],
   "source": [
    "train_df[(train_df['lemma_score4']==1.0) & (train_df['score']!=1.0)].head()"
   ]
  },
  {
   "cell_type": "code",
   "execution_count": null,
   "metadata": {},
   "outputs": [],
   "source": []
  }
 ],
 "metadata": {
  "kernelspec": {
   "display_name": "Python 3",
   "language": "python",
   "name": "python3"
  },
  "language_info": {
   "codemirror_mode": {
    "name": "ipython",
    "version": 3
   },
   "file_extension": ".py",
   "mimetype": "text/x-python",
   "name": "python",
   "nbconvert_exporter": "python",
   "pygments_lexer": "ipython3",
   "version": "3.7.6"
  }
 },
 "nbformat": 4,
 "nbformat_minor": 4
}
